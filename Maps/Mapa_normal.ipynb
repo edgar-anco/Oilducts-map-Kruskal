{
  "cells": [
    {
      "cell_type": "code",
      "execution_count": 2,
      "metadata": {
        "id": "3BlDPzJOKXHb"
      },
      "outputs": [],
      "source": [
        "#Se importan las librerias y se crean las clases nodo y arista\n",
        "#Esto servira para crear los marcadores y lineas dentro del mapa usando Folium\n",
        "import csv\n",
        "import folium\n",
        "from folium.plugins import FastMarkerCluster\n",
        "from geopy.distance import geodesic\n",
        "from itertools import combinations\n",
        "\n",
        "archivo_csv = 'dataset.csv'\n",
        "\n",
        "class Node:\n",
        "    def __init__(self, id, latitude, longitude):\n",
        "        self.id = id\n",
        "        self.latitude = latitude\n",
        "        self.longitude = longitude\n",
        "\n",
        "class Edge:\n",
        "    def __init__(self, node1, node2, distance):\n",
        "        self.node1 = node1\n",
        "        self.node2 = node2\n",
        "        self.distance = distance\n"
      ]
    },
    {
      "cell_type": "code",
      "execution_count": 3,
      "metadata": {
        "id": "TWafl757KXHe"
      },
      "outputs": [],
      "source": [
        "#Funciones de UFDS, para unir conjuntos\n",
        "def find_set(sets, node):\n",
        "    for set in sets:\n",
        "        if node in set:\n",
        "            return set\n",
        "    return None\n",
        "\n",
        "\n",
        "#Funciones de UFDS, para unir y encontrar conjuntos\n",
        "\n",
        "def union_sets(sets, set1, set2):\n",
        "    sets.remove(set1) #remueve un elemento en especifico, set1\n",
        "    sets.remove(set2)\n",
        "    sets.append(set1.union(set2)) #une el conjunto 1 y el 2 sin repetir elementos, y crea un nuevo conju"
      ]
    },
    {
      "cell_type": "code",
      "execution_count": 4,
      "metadata": {
        "id": "mA5HAfaJKXHf"
      },
      "outputs": [],
      "source": [
        "#Se añaden los nodos y aristas a los arreglos correspondientes\n",
        "\n",
        "# Leer los datos del archivo CSV y los guarda cada nodo\n",
        "# en un arreglo de nodos\n",
        "#estos nodos tambien seran almacenados en un conjunto sets[], para ejecutar el UFDS\n",
        "nodes = []\n",
        "with open(archivo_csv, 'r') as archivo:\n",
        "    lector_csv = csv.reader(archivo, delimiter=';')\n",
        "    next(lector_csv)\n",
        "    for linea in lector_csv:\n",
        "        id = linea[0]\n",
        "        latitude = float(linea[3])\n",
        "        longitude = float(linea[4])\n",
        "        node = Node(id, latitude, longitude)\n",
        "        nodes.append(node)\n",
        "\n",
        "\n",
        "\n",
        "\n",
        "#Añade todos los caminos posibles entre un nodo y el resto de nodos\n",
        "#Aqui esta el problema\n",
        "edges = []\n",
        "\n",
        "for i in range(len(nodes)):\n",
        "    for j in range(i + 1, len(nodes)):\n",
        "        node1 = nodes[i]\n",
        "        node2 = nodes[j]\n",
        "        distance = geodesic((node1.latitude, node1.longitude), (node2.latitude, node2.longitude)).kilometers\n",
        "        edge = Edge(node1, node2, distance)\n",
        "        edges.append(edge)\n",
        "#3m, 0.8s-> menos eficiente\n",
        "\n",
        "#for node1, node2 in combinations(nodes, 2):\n",
        "#   distance = geodesic((node1.latitude, node1.longitude), (node2.latitude, node2.longitude)).meters\n",
        "#   edge = Edge(node1, node2, distance)\n",
        "#   edges.append(edge)\n",
        "#2m,56s -> mas eficiente"
      ]
    },
    {
      "cell_type": "code",
      "execution_count": 5,
      "metadata": {
        "id": "jQ3jYGtWKXHf"
      },
      "outputs": [],
      "source": [
        "#Algoritmo de Kruskal\n",
        "\n",
        "#Se ordena la lista de aristas por distancia, empezando por la de menor peso\n",
        "edges.sort(key=lambda x: x.distance)\n",
        "\n",
        "# sets = [\n",
        "#     {Node1},\n",
        "#     {Node2},\n",
        "#     {Node3},\n",
        "#     {Node4},\n",
        "#     {Node5}\n",
        "# ]\n",
        "sets = []\n",
        "for node in nodes:\n",
        "    sets.append({node})\n",
        "\n",
        "\n",
        "#Se crea un arreglo de conexiones que serian las aristas\n",
        "#resultantes que forman parte del camino minimo\n",
        "connections = []\n",
        "for edge in edges:\n",
        "    set1 = find_set(sets, edge.node1)\n",
        "    set2 = find_set(sets, edge.node2)\n",
        "    if set1 != set2: #verifica que no esten en el mismo conjunto, para no crear bucles\n",
        "        union_sets(sets, set1, set2)\n",
        "        connections.append(edge)\n"
      ]
    },
    {
      "cell_type": "code",
      "execution_count": 7,
      "metadata": {
        "colab": {
          "base_uri": "https://localhost:8080/",
          "height": 486
        },
        "id": "SJucz0-MKXHf",
        "outputId": "d367d1a2-c6f7-4276-e9f8-389bbbdb7882"
      },
      "outputs": [],
      "source": [
        "# Se crea el mapa\n",
        "m = folium.Map(width='100%', height='100%')\n",
        "\n",
        "\n",
        "#Se unen los marcadores en grupos usando cluster para que el programa\n",
        "#vaya con fluidez al navegar por el mapa\n",
        "fast_marker_cluster = FastMarkerCluster([], name=\"Cluster\").add_to(m)\n",
        "\n",
        "\n",
        "#Se crean los marcadores, que son la representacion de los nodos en el mapa\n",
        "for node in nodes:\n",
        "    fast_marker_cluster.add_child(\n",
        "        folium.Marker(\n",
        "            location=[node.latitude, node.longitude],\n",
        "            popup=f\"Name: {node.id}\"\n",
        "        )\n",
        "    )\n",
        "\n",
        "\n",
        "#Se crean las conexiones obtenidas al usar kruskal\n",
        "for connection in connections:\n",
        "    location1 = (connection.node1.latitude, connection.node1.longitude)\n",
        "    location2 = (connection.node2.latitude, connection.node2.longitude)\n",
        "    folium.PolyLine(locations=[location1, location2],\n",
        "                    tooltip=f\"Distance: {connection.distance:.2f} km\").add_to(m)\n",
        "\n",
        "m.save(\"TF.html\")\n"
      ]
    }
  ],
  "metadata": {
    "colab": {
      "provenance": []
    },
    "kernelspec": {
      "display_name": "Python 3",
      "name": "python3"
    },
    "language_info": {
      "codemirror_mode": {
        "name": "ipython",
        "version": 3
      },
      "file_extension": ".py",
      "mimetype": "text/x-python",
      "name": "python",
      "nbconvert_exporter": "python",
      "pygments_lexer": "ipython3",
      "version": "3.11.4"
    },
    "orig_nbformat": 4
  },
  "nbformat": 4,
  "nbformat_minor": 0
}
