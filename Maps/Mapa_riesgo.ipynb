{
  "cells": [
    {
      "cell_type": "code",
      "execution_count": 3,
      "metadata": {},
      "outputs": [],
      "source": [
        "import csv\n",
        "import folium\n",
        "import random\n",
        "from folium.plugins import FastMarkerCluster\n",
        "from geopy.distance import geodesic\n",
        "from itertools import combinations\n",
        "\n",
        "archivo_csv = 'dataset.csv'\n",
        "acceptable_risk= 4\n",
        "class Node:\n",
        "    def __init__(self, id, latitude, longitude):\n",
        "        self.id = id\n",
        "        self.latitude = latitude\n",
        "        self.longitude = longitude\n",
        "\n",
        "class Edge:\n",
        "    def __init__(self, node1, node2, distance, risk_level):\n",
        "        self.node1 = node1\n",
        "        self.node2 = node2\n",
        "        self.distance = distance\n",
        "        self.risk_level = risk_level\n"
      ]
    },
    {
      "cell_type": "code",
      "execution_count": 4,
      "metadata": {},
      "outputs": [],
      "source": [
        "#Funciones de UFDS, para unir conjuntos\n",
        "def find_set(sets, node):\n",
        "    for set in sets:\n",
        "        if node in set:\n",
        "            return set\n",
        "    return None\n",
        "\n",
        "\n",
        "#Funciones de UFDS, para unir y encontrar conjuntos\n",
        "\n",
        "def union_sets(sets, set1, set2):\n",
        "    sets.remove(set1) #remueve un elemento en especifico, set1\n",
        "    sets.remove(set2)\n",
        "    sets.append(set1.union(set2)) #une el conjunto 1 y el 2 sin repetir elementos, y crea un nuevo conju\n"
      ]
    },
    {
      "cell_type": "code",
      "execution_count": 5,
      "metadata": {},
      "outputs": [],
      "source": [
        "nodes = []\n",
        "with open(archivo_csv, 'r') as archivo:\n",
        "    lector_csv = csv.reader(archivo, delimiter=';')\n",
        "    next(lector_csv)\n",
        "    for linea in lector_csv:\n",
        "        id = linea[0]\n",
        "        latitude = float(linea[3])\n",
        "        longitude = float(linea[4])\n",
        "        node = Node(id, latitude, longitude)\n",
        "        nodes.append(node)\n",
        "\n",
        "\n",
        "\n",
        "def obtener_numero():\n",
        "    num_aleatorio = random.randint(1, 100)\n",
        "    \n",
        "    if num_aleatorio <= 35:\n",
        "        return 4  \n",
        "    else:\n",
        "        return random.randint(1, 3)  \n"
      ]
    },
    {
      "cell_type": "code",
      "execution_count": 6,
      "metadata": {},
      "outputs": [],
      "source": [
        "edges = []\n",
        "for i in range(len(nodes)):\n",
        "    for j in range(i + 1, len(nodes)):\n",
        "        node1 = nodes[i]\n",
        "        node2 = nodes[j]\n",
        "        distance = geodesic((node1.latitude, node1.longitude), (node2.latitude, node2.longitude)).kilometers\n",
        "        risk= obtener_numero()\n",
        "        edge = Edge(node1, node2, distance,risk)\n",
        "        edges.append(edge)\n"
      ]
    },
    {
      "cell_type": "code",
      "execution_count": 7,
      "metadata": {},
      "outputs": [],
      "source": [
        "edges.sort(key=lambda x: x.distance)\n",
        "\n",
        "# sets = [\n",
        "#     {Node1},\n",
        "#     {Node2},\n",
        "#     {Node3},\n",
        "#     {Node4},\n",
        "#     {Node5}\n",
        "# ]\n",
        "sets = []\n",
        "for node in nodes:\n",
        "    sets.append({node})"
      ]
    },
    {
      "cell_type": "code",
      "execution_count": 8,
      "metadata": {},
      "outputs": [],
      "source": [
        "connections = []\n",
        "for edge in edges:\n",
        "    if edge.risk_level < acceptable_risk:\n",
        "        set1 = find_set(sets, edge.node1)\n",
        "        set2 = find_set(sets, edge.node2)\n",
        "        if set1 != set2: #verifica que no esten en el mismo conjunto, para no crear bucles\n",
        "            union_sets(sets, set1, set2)\n",
        "            connections.append(edge)"
      ]
    },
    {
      "cell_type": "code",
      "execution_count": 13,
      "metadata": {},
      "outputs": [],
      "source": [
        "m = folium.Map(width='100%', height='100%')\n",
        "\n",
        "#Se unen los marcadores en grupos usando cluster para que el programa\n",
        "#vaya con fluidez al navegar por el mapa\n",
        "fast_marker_cluster = FastMarkerCluster([], name=\"Cluster\").add_to(m)\n",
        "\n",
        "\n",
        "#Se crean los marcadores, que son la representacion de los nodos en el mapa\n",
        "for node in nodes:\n",
        "    fast_marker_cluster.add_child(\n",
        "        folium.Marker(\n",
        "            location=[node.latitude, node.longitude],\n",
        "            popup=f\"Name: {node.id}\"\n",
        "        )\n",
        "    )\n",
        "\n",
        "\n",
        "#Se crean las conexiones obtenidas al usar kruskal\n",
        "for connection in connections:\n",
        "    location1 = (connection.node1.latitude, connection.node1.longitude)\n",
        "    location2 = (connection.node2.latitude, connection.node2.longitude)\n",
        "    risk = connection.risk_level\n",
        "    color = 'green' if risk == 1 else 'blue' if risk == 2 else 'red'\n",
        "    risk_text = 'Bajo' if risk == 1 else 'Medio' if risk == 2 else 'Alto'\n",
        "    \n",
        "    folium.PolyLine(locations=[location1, location2],\n",
        "                    tooltip=f\"Distance: {connection.distance:.2f} km, Risk: {risk_text}\",\n",
        "                    color=color).add_to(m)\n",
        "\n",
        "m.save(\"TF.html\")\n"
      ]
    }
  ],
  "metadata": {
    "colab": {
      "provenance": []
    },
    "kernelspec": {
      "display_name": "Python 3",
      "name": "python3"
    },
    "language_info": {
      "codemirror_mode": {
        "name": "ipython",
        "version": 3
      },
      "file_extension": ".py",
      "mimetype": "text/x-python",
      "name": "python",
      "nbconvert_exporter": "python",
      "pygments_lexer": "ipython3",
      "version": "3.11.4"
    },
    "orig_nbformat": 4
  },
  "nbformat": 4,
  "nbformat_minor": 0
}
